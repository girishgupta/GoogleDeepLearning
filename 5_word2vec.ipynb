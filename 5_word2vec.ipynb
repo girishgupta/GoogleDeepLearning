{
 "cells": [
  {
   "cell_type": "markdown",
   "metadata": {
    "colab_type": "text",
    "id": "D7tqLMoKF6uq"
   },
   "source": [
    "Deep Learning\n",
    "=============\n",
    "\n",
    "Assignment 5\n",
    "------------\n",
    "\n",
    "The goal of this assignment is to train a skip-gram model over [Text8](http://mattmahoney.net/dc/textdata) data."
   ]
  },
  {
   "cell_type": "code",
   "execution_count": 1,
   "metadata": {
    "cellView": "both",
    "colab": {
     "autoexec": {
      "startup": false,
      "wait_interval": 0
     }
    },
    "colab_type": "code",
    "collapsed": true,
    "id": "0K1ZyLn04QZf"
   },
   "outputs": [],
   "source": [
    "# These are all the modules we'll be using later. Make sure you can import them\n",
    "# before proceeding further.\n",
    "import collections\n",
    "import math\n",
    "import numpy as np\n",
    "import os\n",
    "import random\n",
    "import tensorflow as tf\n",
    "import zipfile\n",
    "from matplotlib import pylab\n",
    "from six.moves import range\n",
    "from six.moves.urllib.request import urlretrieve\n",
    "from sklearn.manifold import TSNE"
   ]
  },
  {
   "cell_type": "markdown",
   "metadata": {
    "colab_type": "text",
    "id": "aCjPJE944bkV"
   },
   "source": [
    "Download the data from the source website if necessary."
   ]
  },
  {
   "cell_type": "code",
   "execution_count": 2,
   "metadata": {
    "cellView": "both",
    "colab": {
     "autoexec": {
      "startup": false,
      "wait_interval": 0
     },
     "output_extras": [
      {
       "item_id": 1
      }
     ]
    },
    "colab_type": "code",
    "executionInfo": {
     "elapsed": 14640,
     "status": "ok",
     "timestamp": 1445964482948,
     "user": {
      "color": "#1FA15D",
      "displayName": "Vincent Vanhoucke",
      "isAnonymous": false,
      "isMe": true,
      "permissionId": "05076109866853157986",
      "photoUrl": "//lh6.googleusercontent.com/-cCJa7dTDcgQ/AAAAAAAAAAI/AAAAAAAACgw/r2EZ_8oYer4/s50-c-k-no/photo.jpg",
      "sessionId": "2f1ffade4c9f20de",
      "userId": "102167687554210253930"
     },
     "user_tz": 420
    },
    "id": "RJ-o3UBUFtCw",
    "outputId": "c4ec222c-80b5-4298-e635-93ca9f79c3b7"
   },
   "outputs": [
    {
     "name": "stdout",
     "output_type": "stream",
     "text": [
      "Found and verified C://Users//GuptaG//Documents//ML//TF//udacity.ud730.deeplearning-master//assignments//text8.zip\n"
     ]
    }
   ],
   "source": [
    "url = 'http://mattmahoney.net/dc/'\n",
    "\n",
    "def maybe_download(filename, expected_bytes):\n",
    "  \"\"\"Download a file if not present, and make sure it's the right size.\"\"\"\n",
    "  if not os.path.exists(filename):\n",
    "    filename, _ = urlretrieve(url + filename, filename)\n",
    "  statinfo = os.stat(filename)\n",
    "  if statinfo.st_size == expected_bytes:\n",
    "    print('Found and verified %s' % filename)\n",
    "  else:\n",
    "    print (statinfo.st_size)\n",
    "    raise Exception(\n",
    "      'Failed to verify ' + filename + '. Can you get to it with a browser?')\n",
    "  return filename\n",
    "\n",
    "filename = maybe_download('C://Users//GuptaG//Documents//ML//TF//udacity.ud730.deeplearning-master//assignments//text8.zip', 31344016)"
   ]
  },
  {
   "cell_type": "markdown",
   "metadata": {
    "colab_type": "text",
    "id": "Zqz3XiqI4mZT"
   },
   "source": [
    "Read the data into a string."
   ]
  },
  {
   "cell_type": "code",
   "execution_count": 8,
   "metadata": {
    "cellView": "both",
    "colab": {
     "autoexec": {
      "startup": false,
      "wait_interval": 0
     },
     "output_extras": [
      {
       "item_id": 1
      }
     ]
    },
    "colab_type": "code",
    "executionInfo": {
     "elapsed": 28844,
     "status": "ok",
     "timestamp": 1445964497165,
     "user": {
      "color": "#1FA15D",
      "displayName": "Vincent Vanhoucke",
      "isAnonymous": false,
      "isMe": true,
      "permissionId": "05076109866853157986",
      "photoUrl": "//lh6.googleusercontent.com/-cCJa7dTDcgQ/AAAAAAAAAAI/AAAAAAAACgw/r2EZ_8oYer4/s50-c-k-no/photo.jpg",
      "sessionId": "2f1ffade4c9f20de",
      "userId": "102167687554210253930"
     },
     "user_tz": 420
    },
    "id": "Mvf09fjugFU_",
    "outputId": "e3a928b4-1645-4fe8-be17-fcf47de5716d"
   },
   "outputs": [
    {
     "name": "stdout",
     "output_type": "stream",
     "text": [
      "Data size 17005207\n"
     ]
    }
   ],
   "source": [
    "def read_data(filename):\n",
    "  f = zipfile.ZipFile(filename)\n",
    "  for name in f.namelist():\n",
    "    return tf.compat.as_str(f.read(name)).split()\n",
    "  f.close()\n",
    "  \n",
    "words = read_data(filename)\n",
    "print('Data size %d' % len(words))"
   ]
  },
  {
   "cell_type": "markdown",
   "metadata": {
    "colab_type": "text",
    "id": "Zdw6i4F8glpp"
   },
   "source": [
    "Build the dictionary and replace rare words with UNK token."
   ]
  },
  {
   "cell_type": "code",
   "execution_count": 9,
   "metadata": {},
   "outputs": [
    {
     "ename": "TypeError",
     "evalue": "count() takes exactly one argument (0 given)",
     "output_type": "error",
     "traceback": [
      "\u001b[1;31m---------------------------------------------------------------------------\u001b[0m",
      "\u001b[1;31mTypeError\u001b[0m                                 Traceback (most recent call last)",
      "\u001b[1;32m<ipython-input-9-4626925bbe8f>\u001b[0m in \u001b[0;36m<module>\u001b[1;34m()\u001b[0m\n\u001b[1;32m----> 1\u001b[1;33m \u001b[0mwords\u001b[0m\u001b[1;33m.\u001b[0m\u001b[0mcount\u001b[0m\u001b[1;33m(\u001b[0m\u001b[1;33m)\u001b[0m\u001b[1;33m\u001b[0m\u001b[0m\n\u001b[0m",
      "\u001b[1;31mTypeError\u001b[0m: count() takes exactly one argument (0 given)"
     ]
    }
   ],
   "source": [
    "words.count()"
   ]
  },
  {
   "cell_type": "code",
   "execution_count": 10,
   "metadata": {
    "cellView": "both",
    "colab": {
     "autoexec": {
      "startup": false,
      "wait_interval": 0
     },
     "output_extras": [
      {
       "item_id": 1
      }
     ]
    },
    "colab_type": "code",
    "executionInfo": {
     "elapsed": 28849,
     "status": "ok",
     "timestamp": 1445964497178,
     "user": {
      "color": "#1FA15D",
      "displayName": "Vincent Vanhoucke",
      "isAnonymous": false,
      "isMe": true,
      "permissionId": "05076109866853157986",
      "photoUrl": "//lh6.googleusercontent.com/-cCJa7dTDcgQ/AAAAAAAAAAI/AAAAAAAACgw/r2EZ_8oYer4/s50-c-k-no/photo.jpg",
      "sessionId": "2f1ffade4c9f20de",
      "userId": "102167687554210253930"
     },
     "user_tz": 420
    },
    "id": "gAL1EECXeZsD",
    "outputId": "3fb4ecd1-df67-44b6-a2dc-2291730970b2"
   },
   "outputs": [
    {
     "name": "stdout",
     "output_type": "stream",
     "text": [
      "Most common words (+UNK) [['UNK', 418391], ('the', 1061396), ('of', 593677), ('and', 416629), ('one', 411764)]\n",
      "Sample data [5234, 3081, 12, 6, 195, 2, 3134, 46, 59, 156]\n"
     ]
    }
   ],
   "source": [
    "vocabulary_size = 50000\n",
    "\n",
    "def build_dataset(words):\n",
    "  count = [['UNK', -1]]\n",
    "  count.extend(collections.Counter(words).most_common(vocabulary_size - 1))\n",
    "  dictionary = dict()\n",
    "  for word, _ in count:\n",
    "    dictionary[word] = len(dictionary)\n",
    "  data = list()\n",
    "  unk_count = 0\n",
    "  for word in words:\n",
    "    if word in dictionary:\n",
    "      index = dictionary[word]\n",
    "    else:\n",
    "      index = 0  # dictionary['UNK']\n",
    "      unk_count = unk_count + 1\n",
    "    data.append(index)\n",
    "  count[0][1] = unk_count\n",
    "  reverse_dictionary = dict(zip(dictionary.values(), dictionary.keys())) \n",
    "  return data, count, dictionary, reverse_dictionary\n",
    "\n",
    "data, count, dictionary, reverse_dictionary = build_dataset(words)\n",
    "print('Most common words (+UNK)', count[:5])\n",
    "print('Sample data', data[:10])\n",
    "del words  # Hint to reduce memory."
   ]
  },
  {
   "cell_type": "code",
   "execution_count": 11,
   "metadata": {},
   "outputs": [
    {
     "name": "stdout",
     "output_type": "stream",
     "text": [
      "[5234, 3081, 12, 6, 195, 2, 3134, 46, 59, 156]\n",
      "[['UNK', 418391], ('the', 1061396), ('of', 593677), ('and', 416629), ('one', 411764), ('in', 372201), ('a', 325873), ('to', 316376), ('zero', 264975), ('nine', 250430)]\n"
     ]
    },
    {
     "ename": "TypeError",
     "evalue": "'dict_items' object is not subscriptable",
     "output_type": "error",
     "traceback": [
      "\u001b[1;31m---------------------------------------------------------------------------\u001b[0m",
      "\u001b[1;31mTypeError\u001b[0m                                 Traceback (most recent call last)",
      "\u001b[1;32m<ipython-input-11-009605d43dcc>\u001b[0m in \u001b[0;36m<module>\u001b[1;34m()\u001b[0m\n\u001b[0;32m      1\u001b[0m \u001b[0mprint\u001b[0m\u001b[1;33m(\u001b[0m\u001b[0mdata\u001b[0m\u001b[1;33m[\u001b[0m\u001b[1;33m:\u001b[0m\u001b[1;36m10\u001b[0m\u001b[1;33m]\u001b[0m\u001b[1;33m)\u001b[0m\u001b[1;33m\u001b[0m\u001b[0m\n\u001b[0;32m      2\u001b[0m \u001b[0mprint\u001b[0m\u001b[1;33m(\u001b[0m\u001b[0mcount\u001b[0m\u001b[1;33m[\u001b[0m\u001b[1;33m:\u001b[0m\u001b[1;36m10\u001b[0m\u001b[1;33m]\u001b[0m\u001b[1;33m)\u001b[0m\u001b[1;33m\u001b[0m\u001b[0m\n\u001b[1;32m----> 3\u001b[1;33m \u001b[0mprint\u001b[0m\u001b[1;33m(\u001b[0m\u001b[0mdictionary\u001b[0m\u001b[1;33m.\u001b[0m\u001b[0mitems\u001b[0m\u001b[1;33m(\u001b[0m\u001b[1;33m)\u001b[0m\u001b[1;33m[\u001b[0m\u001b[1;33m:\u001b[0m\u001b[1;36m10\u001b[0m\u001b[1;33m]\u001b[0m\u001b[1;33m)\u001b[0m\u001b[1;33m\u001b[0m\u001b[0m\n\u001b[0m\u001b[0;32m      4\u001b[0m \u001b[0mprint\u001b[0m\u001b[1;33m(\u001b[0m\u001b[0mreverse_dictionary\u001b[0m\u001b[1;33m.\u001b[0m\u001b[0mitems\u001b[0m\u001b[1;33m(\u001b[0m\u001b[1;33m)\u001b[0m\u001b[1;33m[\u001b[0m\u001b[1;33m:\u001b[0m\u001b[1;36m10\u001b[0m\u001b[1;33m]\u001b[0m\u001b[1;33m)\u001b[0m\u001b[1;33m\u001b[0m\u001b[0m\n",
      "\u001b[1;31mTypeError\u001b[0m: 'dict_items' object is not subscriptable"
     ]
    }
   ],
   "source": [
    "print(data[:10])\n",
    "print(count[:10])\n",
    "print(dictionary.items()[:10])\n",
    "print(reverse_dictionary.items()[:10])"
   ]
  },
  {
   "cell_type": "markdown",
   "metadata": {
    "colab_type": "text",
    "id": "lFwoyygOmWsL"
   },
   "source": [
    "Function to generate a training batch for the skip-gram model."
   ]
  },
  {
   "cell_type": "code",
   "execution_count": 8,
   "metadata": {
    "cellView": "both",
    "colab": {
     "autoexec": {
      "startup": false,
      "wait_interval": 0
     },
     "output_extras": [
      {
       "item_id": 1
      }
     ]
    },
    "colab_type": "code",
    "executionInfo": {
     "elapsed": 113,
     "status": "ok",
     "timestamp": 1445964901989,
     "user": {
      "color": "#1FA15D",
      "displayName": "Vincent Vanhoucke",
      "isAnonymous": false,
      "isMe": true,
      "permissionId": "05076109866853157986",
      "photoUrl": "//lh6.googleusercontent.com/-cCJa7dTDcgQ/AAAAAAAAAAI/AAAAAAAACgw/r2EZ_8oYer4/s50-c-k-no/photo.jpg",
      "sessionId": "2f1ffade4c9f20de",
      "userId": "102167687554210253930"
     },
     "user_tz": 420
    },
    "id": "w9APjA-zmfjV",
    "outputId": "67cccb02-cdaf-4e47-d489-43bcc8d57bb8"
   },
   "outputs": [
    {
     "name": "stdout",
     "output_type": "stream",
     "text": [
      "3081 -> 12\n",
      "originated -> as\n",
      "3081 -> 5234\n",
      "originated -> anarchism\n",
      "12 -> 3081\n",
      "as -> originated\n",
      "12 -> 6\n",
      "as -> a\n",
      "6 -> 12\n",
      "a -> as\n",
      "6 -> 195\n",
      "a -> term\n",
      "195 -> 2\n",
      "term -> of\n",
      "195 -> 6\n",
      "term -> a\n"
     ]
    }
   ],
   "source": [
    "data_index = 0\n",
    "\n",
    "def generate_batch(batch_size, num_skips, skip_window):\n",
    "  global data_index\n",
    "  assert batch_size % num_skips == 0 \n",
    "  assert num_skips <= 2 * skip_window\n",
    "  batch = np.ndarray(shape=(batch_size), dtype=np.int32)\n",
    "  labels = np.ndarray(shape=(batch_size, 1), dtype=np.int32)\n",
    "  span = 2 * skip_window + 1 # [ skip_window target skip_window ]\n",
    "  buffer = collections.deque(maxlen=span)\n",
    "  for _ in range(span):\n",
    "    buffer.append(data[data_index])\n",
    "    data_index = (data_index + 1) % len(data)\n",
    "  for i in range(batch_size // num_skips):\n",
    "    target = skip_window  # target label at the center of the buffer\n",
    "    targets_to_avoid = [ skip_window ]\n",
    "    for j in range(num_skips):\n",
    "      while target in targets_to_avoid:\n",
    "        target = random.randint(0, span - 1)\n",
    "      targets_to_avoid.append(target)\n",
    "      batch[i * num_skips + j] = buffer[skip_window]\n",
    "      labels[i * num_skips + j, 0] = buffer[target]\n",
    "    buffer.append(data[data_index])\n",
    "    data_index = (data_index + 1) % len(data)\n",
    "  return batch, labels\n",
    "\n",
    "batch, labels = generate_batch(batch_size=8, num_skips=2, skip_window=1)\n",
    "for i in range(8):\n",
    "  print('%d -> %d' % (batch[i], labels[i, 0]))\n",
    "  print('%s -> %s' % (reverse_dictionary[batch[i]],\n",
    "                      reverse_dictionary[labels[i, 0]]))"
   ]
  },
  {
   "cell_type": "markdown",
   "metadata": {
    "colab_type": "text",
    "id": "Ofd1MbBuwiva"
   },
   "source": [
    "Train a skip-gram model."
   ]
  },
  {
   "cell_type": "code",
   "execution_count": 11,
   "metadata": {
    "cellView": "both",
    "colab": {
     "autoexec": {
      "startup": false,
      "wait_interval": 0
     }
    },
    "colab_type": "code",
    "collapsed": true,
    "id": "8pQKsV4Vwlzy"
   },
   "outputs": [],
   "source": [
    "batch_size = 128\n",
    "embedding_size = 128 # Dimension of the embedding vector.\n",
    "skip_window = 1 # How many words to consider left and right.\n",
    "num_skips = 2 # How many times to reuse an input to generate a label.\n",
    "# We pick a random validation set to sample nearest neighbors. here we limit the\n",
    "# validation samples to the words that have a low numeric ID, which by\n",
    "# construction are also the most frequent. \n",
    "valid_size = 16 # Random set of words to evaluate similarity on.\n",
    "valid_window = 100 # Only pick dev samples in the head of the distribution.\n",
    "valid_examples = np.array(random.sample(range(valid_window), valid_size))\n",
    "num_sampled = 64 # Number of negative examples to sample.\n",
    "\n",
    "graph = tf.Graph()\n",
    "\n",
    "with graph.as_default(), tf.device('/cpu:0'):\n",
    "\n",
    "  # Input data.\n",
    "  train_dataset = tf.placeholder(tf.int32, shape=[batch_size])\n",
    "  train_labels = tf.placeholder(tf.int32, shape=[batch_size, 1])\n",
    "  valid_dataset = tf.constant(valid_examples, dtype=tf.int32)\n",
    "  \n",
    "  # Variables.\n",
    "  embeddings = tf.Variable(tf.random_uniform([vocabulary_size, embedding_size], -1.0, 1.0))\n",
    "  softmax_weights = tf.Variable(tf.truncated_normal([vocabulary_size, embedding_size],stddev=1.0 / math.sqrt(embedding_size)))\n",
    "  softmax_biases = tf.Variable(tf.zeros([vocabulary_size]))\n",
    "  \n",
    "  # Model.\n",
    "  # Look up embeddings for inputs.\n",
    "  embed = tf.nn.embedding_lookup(embeddings, train_dataset)\n",
    "  # Compute the softmax loss, using a sample of the negative labels each time.\n",
    "  loss = tf.reduce_mean(tf.nn.sampled_softmax_loss(softmax_weights, softmax_biases, train_labels, embed,num_sampled, vocabulary_size))\n",
    "\n",
    "  # Optimizer.\n",
    "  # Note: The optimizer will optimize the softmax_weights AND the embeddings.\n",
    "  # This is because the embeddings are defined as a variable quantity and the\n",
    "  # optimizer's `minimize` method will by default modify all variable quantities \n",
    "  # that contribute to the tensor it is passed.\n",
    "  # See docs on `tf.train.Optimizer.minimize()` for more details.\n",
    "  optimizer = tf.train.AdagradOptimizer(1.0).minimize(loss)\n",
    "  \n",
    "  # Compute the similarity between minibatch examples and all embeddings.\n",
    "  # We use the cosine distance:\n",
    "  norm = tf.sqrt(tf.reduce_sum(tf.square(embeddings), 1, keep_dims=True))\n",
    "  normalized_embeddings = embeddings / norm\n",
    "  valid_embeddings = tf.nn.embedding_lookup(normalized_embeddings, valid_dataset)\n",
    "  similarity = tf.matmul(valid_embeddings, tf.transpose(normalized_embeddings))"
   ]
  },
  {
   "cell_type": "code",
   "execution_count": 14,
   "metadata": {
    "cellView": "both",
    "colab": {
     "autoexec": {
      "startup": false,
      "wait_interval": 0
     },
     "output_extras": [
      {
       "item_id": 23
      },
      {
       "item_id": 48
      },
      {
       "item_id": 61
      }
     ]
    },
    "colab_type": "code",
    "executionInfo": {
     "elapsed": 436189,
     "status": "ok",
     "timestamp": 1445965429787,
     "user": {
      "color": "#1FA15D",
      "displayName": "Vincent Vanhoucke",
      "isAnonymous": false,
      "isMe": true,
      "permissionId": "05076109866853157986",
      "photoUrl": "//lh6.googleusercontent.com/-cCJa7dTDcgQ/AAAAAAAAAAI/AAAAAAAACgw/r2EZ_8oYer4/s50-c-k-no/photo.jpg",
      "sessionId": "2f1ffade4c9f20de",
      "userId": "102167687554210253930"
     },
     "user_tz": 420
    },
    "id": "1bQFGceBxrWW",
    "outputId": "5ebd6d9a-33c6-4bcd-bf6d-252b0b6055e4"
   },
   "outputs": [
    {
     "name": "stdout",
     "output_type": "stream",
     "text": [
      "Initialized\n",
      "Average loss at step 0: 6.407228\n",
      "Nearest to is: prince, gutnish, bracket, capillaries, mackay, married, operand, recurring,\n",
      "Nearest to were: aloes, illuminati, transcendental, resold, fezzan, cruising, urraca, conformation,\n",
      "Nearest to united: pv, leather, vought, suspecting, department, hurry, superhero, delay,\n",
      "Nearest to during: tarr, blizzards, roanoke, beetle, gratis, flax, csd, dictates,\n",
      "Nearest to zero: justifiable, planks, masovia, delegations, murmansk, simply, kirchhoff, urbanized,\n",
      "Nearest to first: thessaloniki, cody, vpn, casimir, straddles, economical, booklet, squirrels,\n",
      "Nearest to state: mimicked, uv, fictions, locking, swede, honorable, polski, hobbies,\n",
      "Nearest to with: closures, precedents, darling, greenaway, sichuan, wins, impassable, aung,\n",
      "Nearest to after: occupy, cataract, putnam, homebrew, chopping, biennial, landowner, tiered,\n",
      "Nearest to UNK: artificially, resisted, hillery, beryl, excuse, healthy, gau, subpixel,\n",
      "Nearest to between: boreal, nucleons, musket, ernesto, behaving, attractive, harvest, coed,\n",
      "Nearest to people: esk, structuralism, transactional, tai, bursa, biologist, wha, payne,\n",
      "Nearest to b: benefiting, trouble, sombart, joint, burroughs, earns, funakoshi, sussman,\n",
      "Nearest to at: caesium, japheth, enabling, waxes, regis, awful, yak, wishart,\n",
      "Nearest to but: hyacinthus, recipe, detecting, misidentification, pathologic, climbing, malvinas, nokia,\n",
      "Nearest to other: valued, myths, heathland, basilides, lambs, gluten, exceeding, distanced,\n",
      "Average loss at step 2000: 4.367144\n",
      "Average loss at step 4000: 3.869261\n",
      "Average loss at step 6000: 3.784124\n",
      "Average loss at step 8000: 3.692765\n",
      "Average loss at step 10000: 3.614696\n",
      "Nearest to is: was, are, has, were, printing, be, dniester, fleas,\n",
      "Nearest to were: are, was, have, solute, judson, had, if, is,\n",
      "Nearest to united: pv, leather, etudes, corman, couper, vre, essences, hillary,\n",
      "Nearest to during: after, tarr, gratis, blizzards, crafted, struma, lightweight, at,\n",
      "Nearest to zero: six, seven, eight, nine, five, three, four, two,\n",
      "Nearest to first: straddles, sinking, world, classical, tooth, on, imaginative, laureate,\n",
      "Nearest to state: mimicked, swede, uv, fictions, locking, oui, eurasian, again,\n",
      "Nearest to with: in, for, on, by, closures, between, chih, hump,\n",
      "Nearest to after: for, peng, porphyry, in, during, sprinkling, couper, occupy,\n",
      "Nearest to UNK: agena, fog, g, filters, aspectual, derided, prakrit, orkney,\n",
      "Nearest to between: nucleons, attractive, rad, musket, in, ernesto, with, copley,\n",
      "Nearest to people: pumps, susceptible, special, individuals, bursa, esk, existence, glaser,\n",
      "Nearest to b: d, exclusive, bubbled, crocodiles, funakoshi, syllable, majesty, joint,\n",
      "Nearest to at: japheth, in, of, wishart, on, when, removes, during,\n",
      "Nearest to but: climbing, durrani, tinbergen, pathologic, nurtured, re, and, or,\n",
      "Nearest to other: steed, mamertines, basilides, eulemur, critic, zarqawi, veritable, redeeming,\n",
      "Average loss at step 12000: 3.604358\n",
      "Average loss at step 14000: 3.570553\n",
      "Average loss at step 16000: 3.411294\n",
      "Average loss at step 18000: 3.458677\n",
      "Average loss at step 20000: 3.540704\n",
      "Nearest to is: was, are, has, does, be, but, were, prenatal,\n",
      "Nearest to were: are, was, have, had, is, executors, by, judson,\n",
      "Nearest to united: pv, leather, etudes, mordor, hillary, holy, southwest, essences,\n",
      "Nearest to during: after, at, blizzards, in, tarr, cynic, planners, struma,\n",
      "Nearest to zero: six, five, eight, four, seven, three, nine, two,\n",
      "Nearest to first: straddles, next, sinking, mandating, casimir, last, classical, imaginative,\n",
      "Nearest to state: swede, fictions, mimicked, catering, polski, governor, korah, camelopardalis,\n",
      "Nearest to with: in, by, toss, closures, at, between, for, upheld,\n",
      "Nearest to after: during, before, porphyry, peng, in, for, when, from,\n",
      "Nearest to UNK: faltering, filters, ucs, graft, aspectual, preamble, carlo, moloch,\n",
      "Nearest to between: nucleons, rad, from, attractive, in, copley, nitride, judged,\n",
      "Nearest to people: individuals, men, susceptible, glaser, trumbo, biologist, endian, jdk,\n",
      "Nearest to b: d, cartier, aristocratic, prisoner, seizing, movable, brisingamen, faster,\n",
      "Nearest to at: in, japheth, on, during, nk, from, golfers, with,\n",
      "Nearest to but: however, is, which, that, there, does, if, led,\n",
      "Nearest to other: many, steed, mamertines, dmu, some, islamism, formulas, critic,\n",
      "Average loss at step 22000: 3.498842\n",
      "Average loss at step 24000: 3.492020\n",
      "Average loss at step 26000: 3.481938\n",
      "Average loss at step 28000: 3.477276\n",
      "Average loss at step 30000: 3.505226\n",
      "Nearest to is: was, has, are, does, were, be, became, but,\n",
      "Nearest to were: are, was, have, had, is, roi, be, executors,\n",
      "Nearest to united: pv, leather, mordor, etudes, ably, hillary, essences, corman,\n",
      "Nearest to during: after, in, at, blizzards, when, by, saeed, cynic,\n",
      "Nearest to zero: five, four, seven, eight, three, six, nine, two,\n",
      "Nearest to first: last, next, second, third, mandating, imaginative, tub, werke,\n",
      "Nearest to state: swede, city, mimicked, fictions, catering, polski, redevelopment, uv,\n",
      "Nearest to with: between, romanian, by, among, in, against, landsmannschaft, blink,\n",
      "Nearest to after: before, during, in, porphyry, peng, when, at, arabian,\n",
      "Nearest to UNK: reintroducing, substrate, prakrit, feasts, mishnah, mcveigh, charts, oss,\n",
      "Nearest to between: with, nucleons, rad, in, attractive, nitride, from, against,\n",
      "Nearest to people: individuals, men, trumbo, years, susceptible, biologist, orcus, spilling,\n",
      "Nearest to b: d, redundant, movable, aristocratic, syllable, exclusive, occultists, annoyance,\n",
      "Nearest to at: japheth, in, during, after, nk, on, rhotic, vit,\n",
      "Nearest to but: however, and, that, although, abusers, which, if, pearson,\n",
      "Nearest to other: dmu, formulas, these, such, various, different, many, some,\n",
      "Average loss at step 32000: 3.502591\n",
      "Average loss at step 34000: 3.493685\n",
      "Average loss at step 36000: 3.458936\n",
      "Average loss at step 38000: 3.303796\n",
      "Average loss at step 40000: 3.425536\n",
      "Nearest to is: was, are, be, has, contains, minimise, does, keene,\n",
      "Nearest to were: are, have, was, had, including, while, fezzan, eligibility,\n",
      "Nearest to united: pv, leather, mordor, ably, department, corman, etudes, cassell,\n",
      "Nearest to during: after, at, in, blizzards, from, on, against, saeed,\n",
      "Nearest to zero: seven, five, nine, eight, six, three, four, two,\n",
      "Nearest to first: last, second, next, third, margaret, jagie, tub, reinterpretation,\n",
      "Nearest to state: swede, city, polski, fictions, catering, mimicked, redevelopment, locking,\n",
      "Nearest to with: between, closures, when, stews, chih, romanian, injector, by,\n",
      "Nearest to after: before, during, arabian, peng, when, porphyry, from, for,\n",
      "Nearest to UNK: hood, b, rossetti, h, mistral, substrate, fourteenth, filters,\n",
      "Nearest to between: with, nucleons, nitride, in, against, from, rad, rollers,\n",
      "Nearest to people: individuals, men, manipulations, others, orcus, entablature, monarchs, susceptible,\n",
      "Nearest to b: d, UNK, redundant, susie, e, n, denizens, h,\n",
      "Nearest to at: japheth, during, in, on, glaser, rio, lurker, nk,\n",
      "Nearest to but: however, although, and, which, episcopacy, though, that, antithetical,\n",
      "Nearest to other: various, different, mamertines, formulas, several, dmu, many, cryo,\n",
      "Average loss at step 42000: 3.435194\n",
      "Average loss at step 44000: 3.452919\n",
      "Average loss at step 46000: 3.452990\n",
      "Average loss at step 48000: 3.353308\n",
      "Average loss at step 50000: 3.390335\n",
      "Nearest to is: was, are, has, includes, does, be, became, contains,\n",
      "Nearest to were: are, was, have, including, had, executors, been, be,\n",
      "Nearest to united: pv, leather, mordor, cassell, ably, department, corman, holy,\n",
      "Nearest to during: after, in, when, blizzards, at, from, through, saeed,\n",
      "Nearest to zero: five, seven, eight, four, six, nine, three, two,\n",
      "Nearest to first: last, second, next, third, jagie, mandating, same, final,\n",
      "Nearest to state: swede, fictions, city, redevelopment, glorify, catering, mimicked, idea,\n",
      "Nearest to with: between, stews, by, papen, catechism, closures, caves, akin,\n",
      "Nearest to after: before, during, when, peng, arabian, if, labs, nonprofit,\n",
      "Nearest to UNK: flyers, l, carlo, aspectual, tutoring, pacino, musicologists, j,\n",
      "Nearest to between: with, nucleons, from, against, nitride, in, among, rollers,\n",
      "Nearest to people: individuals, men, biologist, susceptible, jews, lymphocytes, years, orcus,\n",
      "Nearest to b: d, n, c, syllable, f, interceptors, unofficial, daoud,\n",
      "Nearest to at: japheth, during, under, from, plum, golfers, taliban, on,\n",
      "Nearest to but: however, although, and, though, when, which, where, since,\n",
      "Nearest to other: various, different, formulas, many, several, individual, some, dmu,\n"
     ]
    },
    {
     "name": "stdout",
     "output_type": "stream",
     "text": [
      "Average loss at step 52000: 3.438564\n",
      "Average loss at step 54000: 3.426753\n",
      "Average loss at step 56000: 3.439865\n",
      "Average loss at step 58000: 3.395882\n",
      "Average loss at step 60000: 3.399012\n",
      "Nearest to is: was, are, has, does, be, remains, instigate, bulgar,\n",
      "Nearest to were: are, was, have, including, had, those, while, fezzan,\n",
      "Nearest to united: pv, mordor, leather, ably, cassell, etudes, decrypted, coconut,\n",
      "Nearest to during: after, in, when, before, within, following, at, although,\n",
      "Nearest to zero: five, four, eight, six, seven, three, nine, two,\n",
      "Nearest to first: second, last, next, third, same, only, original, final,\n",
      "Nearest to state: city, fictions, glorify, swede, redevelopment, government, mimicked, polski,\n",
      "Nearest to with: between, by, among, including, while, when, wearer, mello,\n",
      "Nearest to after: before, during, when, despite, following, until, arabian, peng,\n",
      "Nearest to UNK: libertine, posthumus, via, engined, aspectual, hapless, caroline, mishnah,\n",
      "Nearest to between: with, among, nucleons, against, wholesome, printf, rad, nitride,\n",
      "Nearest to people: individuals, men, others, women, americans, jute, biologist, players,\n",
      "Nearest to b: d, n, c, f, h, p, r, x,\n",
      "Nearest to at: japheth, in, during, addis, golfers, within, when, angiosperms,\n",
      "Nearest to but: however, although, and, since, though, when, which, if,\n",
      "Nearest to other: various, different, many, several, more, mamertines, those, sakai,\n",
      "Average loss at step 62000: 3.239277\n",
      "Average loss at step 64000: 3.253713\n",
      "Average loss at step 66000: 3.401085\n",
      "Average loss at step 68000: 3.395525\n",
      "Average loss at step 70000: 3.356359\n",
      "Nearest to is: was, has, are, be, does, makes, sutras, although,\n",
      "Nearest to were: are, have, was, had, be, including, been, fezzan,\n",
      "Nearest to united: pv, mordor, ably, etudes, leather, cistern, decrypted, coconut,\n",
      "Nearest to during: after, in, before, within, across, until, at, when,\n",
      "Nearest to zero: five, four, six, eight, seven, nine, three, gwh,\n",
      "Nearest to first: second, last, next, original, same, third, ameliorate, longest,\n",
      "Nearest to state: city, glorify, fictions, government, redevelopment, hybridized, dedicates, frites,\n",
      "Nearest to with: between, among, closures, diversifying, including, papen, sitcom, unnatural,\n",
      "Nearest to after: before, during, when, until, despite, if, peng, without,\n",
      "Nearest to UNK: dks, griffin, excel, simply, allegorical, tut, revisionism, toughness,\n",
      "Nearest to between: among, with, nitride, nucleons, into, in, against, through,\n",
      "Nearest to people: individuals, men, americans, women, others, things, members, susceptible,\n",
      "Nearest to b: d, n, f, r, h, p, x, tektites,\n",
      "Nearest to at: japheth, during, addis, within, kart, in, golfers, haggard,\n",
      "Nearest to but: however, although, and, though, which, while, that, than,\n",
      "Nearest to other: various, different, many, cultural, some, nonnegative, food, yehuda,\n",
      "Average loss at step 72000: 3.374597\n",
      "Average loss at step 74000: 3.349032\n",
      "Average loss at step 76000: 3.323421\n",
      "Average loss at step 78000: 3.351285\n",
      "Average loss at step 80000: 3.377710\n",
      "Nearest to is: was, has, are, be, became, includes, fgc, portland,\n",
      "Nearest to were: are, was, have, had, be, been, became, mercedes,\n",
      "Nearest to united: pv, mordor, cistern, ably, etudes, department, holy, leather,\n",
      "Nearest to during: after, before, when, in, within, despite, including, until,\n",
      "Nearest to zero: five, seven, four, six, eight, three, nine, two,\n",
      "Nearest to first: second, last, next, third, original, same, simplifications, final,\n",
      "Nearest to state: city, hybridized, government, redevelopment, glorify, welfare, idea, weu,\n",
      "Nearest to with: between, among, sitcom, closures, romanian, troubleshooting, upheld, despite,\n",
      "Nearest to after: before, during, when, despite, without, until, if, though,\n",
      "Nearest to UNK: reincorporated, solanas, leonard, aspectual, transducer, ortho, griffin, augmenting,\n",
      "Nearest to between: among, with, within, nitride, nucleons, plissken, in, printf,\n",
      "Nearest to people: men, individuals, women, americans, others, children, christians, someone,\n",
      "Nearest to b: d, n, c, r, f, preregular, j, p,\n",
      "Nearest to at: in, japheth, within, nicobar, during, comparably, angiosperms, herbs,\n",
      "Nearest to but: however, although, though, while, which, cacti, and, nutritional,\n",
      "Nearest to other: various, smaller, anthroposophy, individual, shearer, many, miscellaneous, formulas,\n",
      "Average loss at step 82000: 3.409633\n",
      "Average loss at step 84000: 3.413497\n",
      "Average loss at step 86000: 3.388578\n",
      "Average loss at step 88000: 3.350461\n",
      "Average loss at step 90000: 3.365660\n",
      "Nearest to is: was, has, are, be, sutras, although, requires, includes,\n",
      "Nearest to were: are, was, had, have, while, although, is, executors,\n",
      "Nearest to united: pv, constitution, ably, mordor, department, cistern, etudes, inhabitant,\n",
      "Nearest to during: after, in, before, while, within, when, under, through,\n",
      "Nearest to zero: five, seven, four, eight, six, nine, three, two,\n",
      "Nearest to first: last, second, next, original, same, margaret, final, third,\n",
      "Nearest to state: city, government, hybridized, swede, building, palms, redevelopment, mimicked,\n",
      "Nearest to with: between, in, crossings, by, among, including, kendo, despite,\n",
      "Nearest to after: before, during, when, until, despite, while, without, if,\n",
      "Nearest to UNK: aspectual, bangor, roberts, sanctify, caroline, soaps, subsided, anemometer,\n",
      "Nearest to between: with, among, within, through, in, wholesale, olof, from,\n",
      "Nearest to people: men, individuals, americans, women, children, students, someone, christians,\n",
      "Nearest to b: n, d, r, f, c, y, j, p,\n",
      "Nearest to at: japheth, during, in, wishart, under, within, after, around,\n",
      "Nearest to but: however, although, and, which, though, while, since, episcopacy,\n",
      "Nearest to other: various, individual, formulas, smaller, different, coax, dmu, splice,\n",
      "Average loss at step 92000: 3.395988\n",
      "Average loss at step 94000: 3.252750\n",
      "Average loss at step 96000: 3.357072\n",
      "Average loss at step 98000: 3.242394\n",
      "Average loss at step 100000: 3.360810\n",
      "Nearest to is: was, has, became, are, be, had, if, refers,\n",
      "Nearest to were: are, have, was, had, these, although, while, executors,\n",
      "Nearest to united: pv, constitution, mordor, ably, nation, cistern, commonwealth, department,\n",
      "Nearest to during: after, in, before, within, when, until, throughout, through,\n",
      "Nearest to zero: five, four, eight, seven, six, three, nine, two,\n",
      "Nearest to first: last, second, next, fourth, third, final, simplifications, original,\n",
      "Nearest to state: city, swede, allotted, government, hybridized, camelopardalis, honorable, building,\n",
      "Nearest to with: between, including, closures, among, into, by, sosa, jays,\n",
      "Nearest to after: before, during, when, without, despite, until, while, at,\n",
      "Nearest to UNK: estrada, ta, pianists, ronstadt, anh, shenandoah, affective, winding,\n",
      "Nearest to between: with, among, within, wholesale, through, against, in, nucleons,\n",
      "Nearest to people: men, individuals, children, americans, women, christians, someone, students,\n",
      "Nearest to b: d, c, represents, macleod, floors, vegetarians, fever, aristocratic,\n",
      "Nearest to at: japheth, within, in, during, on, after, under, rhotic,\n",
      "Nearest to but: however, although, and, though, while, which, episcopacy, appear,\n",
      "Nearest to other: individual, various, formulas, nonnegative, coprocessor, different, food, splice,\n"
     ]
    }
   ],
   "source": [
    "num_steps = 100001\n",
    "\n",
    "with tf.Session(graph=graph) as session:\n",
    "  tf.global_variables_initializer().run()\n",
    "  print('Initialized')\n",
    "  average_loss = 0\n",
    "  for step in range(num_steps):\n",
    "    batch_data, batch_labels = generate_batch(batch_size, num_skips, skip_window)\n",
    "    feed_dict = {train_dataset : batch_data, train_labels : batch_labels}\n",
    "    _, l = session.run([optimizer, loss], feed_dict=feed_dict)\n",
    "    average_loss += l\n",
    "    if step % 2000 == 0:\n",
    "      if step > 0:\n",
    "        average_loss = average_loss / 2000\n",
    "      # The average loss is an estimate of the loss over the last 2000 batches.\n",
    "      print('Average loss at step %d: %f' % (step, average_loss))\n",
    "      average_loss = 0\n",
    "    # note that this is expensive (~20% slowdown if computed every 500 steps)\n",
    "    if step % 10000 == 0:\n",
    "      sim = similarity.eval()\n",
    "      for i in range(valid_size):\n",
    "        valid_word = reverse_dictionary[valid_examples[i]]\n",
    "        top_k = 8 # number of nearest neighbors\n",
    "        nearest = (-sim[i, :]).argsort()[1:top_k+1]\n",
    "        log = 'Nearest to %s:' % valid_word\n",
    "        for k in range(top_k):\n",
    "          close_word = reverse_dictionary[nearest[k]]\n",
    "          log = '%s %s,' % (log, close_word)\n",
    "        print(log)\n",
    "  final_embeddings = normalized_embeddings.eval()"
   ]
  },
  {
   "cell_type": "code",
   "execution_count": 15,
   "metadata": {
    "cellView": "both",
    "colab": {
     "autoexec": {
      "startup": false,
      "wait_interval": 0
     }
    },
    "colab_type": "code",
    "collapsed": true,
    "id": "jjJXYA_XzV79"
   },
   "outputs": [],
   "source": [
    "num_points = 400\n",
    "\n",
    "tsne = TSNE(perplexity=30, n_components=2, init='pca', n_iter=5000)\n",
    "two_d_embeddings = tsne.fit_transform(final_embeddings[1:num_points+1, :])"
   ]
  },
  {
   "cell_type": "code",
   "execution_count": 16,
   "metadata": {
    "cellView": "both",
    "colab": {
     "autoexec": {
      "startup": false,
      "wait_interval": 0
     },
     "output_extras": [
      {
       "item_id": 1
      }
     ]
    },
    "colab_type": "code",
    "collapsed": true,
    "executionInfo": {
     "elapsed": 4763,
     "status": "ok",
     "timestamp": 1445965465525,
     "user": {
      "color": "#1FA15D",
      "displayName": "Vincent Vanhoucke",
      "isAnonymous": false,
      "isMe": true,
      "permissionId": "05076109866853157986",
      "photoUrl": "//lh6.googleusercontent.com/-cCJa7dTDcgQ/AAAAAAAAAAI/AAAAAAAACgw/r2EZ_8oYer4/s50-c-k-no/photo.jpg",
      "sessionId": "2f1ffade4c9f20de",
      "userId": "102167687554210253930"
     },
     "user_tz": 420
    },
    "id": "o_e0D_UezcDe",
    "outputId": "df22e4a5-e8ec-4e5e-d384-c6cf37c68c34"
   },
   "outputs": [],
   "source": [
    "def plot(embeddings, labels):\n",
    "  assert embeddings.shape[0] >= len(labels), 'More labels than embeddings'\n",
    "  pylab.figure(figsize=(15,15))  # in inches\n",
    "  for i, label in enumerate(labels):\n",
    "    x, y = embeddings[i,:]\n",
    "    pylab.scatter(x, y)\n",
    "    pylab.annotate(label, xy=(x, y), xytext=(5, 2), textcoords='offset points',\n",
    "                   ha='right', va='bottom')\n",
    "  pylab.show()\n",
    "\n",
    "words = [reverse_dictionary[i] for i in range(1, num_points+1)]\n",
    "plot(two_d_embeddings, words)"
   ]
  },
  {
   "cell_type": "markdown",
   "metadata": {
    "colab_type": "text",
    "id": "QB5EFrBnpNnc"
   },
   "source": [
    "---\n",
    "\n",
    "Problem\n",
    "-------\n",
    "\n",
    "An alternative to Word2Vec is called [CBOW](http://arxiv.org/abs/1301.3781) (Continuous Bag of Words). In the CBOW model, instead of predicting a context word from a word vector, you predict a word from the sum of all the word vectors in its context. Implement and evaluate a CBOW model trained on the text8 dataset.\n",
    "\n",
    "---"
   ]
  }
 ],
 "metadata": {
  "colab": {
   "default_view": {},
   "name": "5_word2vec.ipynb",
   "provenance": [],
   "version": "0.3.2",
   "views": {}
  },
  "kernelspec": {
   "display_name": "Python 3",
   "language": "python",
   "name": "python3"
  },
  "language_info": {
   "codemirror_mode": {
    "name": "ipython",
    "version": 3
   },
   "file_extension": ".py",
   "mimetype": "text/x-python",
   "name": "python",
   "nbconvert_exporter": "python",
   "pygments_lexer": "ipython3",
   "version": "3.6.1"
  }
 },
 "nbformat": 4,
 "nbformat_minor": 1
}
