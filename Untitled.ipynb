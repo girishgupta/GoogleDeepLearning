{
 "cells": [
  {
   "cell_type": "code",
   "execution_count": 2,
   "metadata": {},
   "outputs": [
    {
     "name": "stdout",
     "output_type": "stream",
     "text": [
      "[1 3 5 7 9]\n"
     ]
    }
   ],
   "source": [
    "import numpy as np\n",
    "print(np.arange(1,10,2))"
   ]
  },
  {
   "cell_type": "code",
   "execution_count": 4,
   "metadata": {},
   "outputs": [
    {
     "name": "stdout",
     "output_type": "stream",
     "text": [
      "[1.0000000000000001e-05, 1.5848931924611141e-05, 2.5118864315095822e-05, 3.9810717055349776e-05, 6.3095734448019429e-05, 0.00010000000000000021, 0.00015848931924611174, 0.00025118864315095871, 0.00039810717055349854, 0.00063095734448019559, 0.0010000000000000041, 0.0015848931924611206, 0.0025118864315095924, 0.0039810717055349934, 0.0063095734448019684, 0.010000000000000061, 0.015848931924611238, 0.025118864315095975, 0.039810717055350019, 0.063095734448019816, 0.10000000000000082, 0.1584893192461127, 0.25118864315096029, 0.39810717055350098, 0.63095734448019947]\n"
     ]
    }
   ],
   "source": [
    "beta_val = [pow(10,i) for i in np.arange(-5,0,0.2)]\n",
    "print(beta_val)"
   ]
  },
  {
   "cell_type": "code",
   "execution_count": 8,
   "metadata": {},
   "outputs": [
    {
     "data": {
      "text/plain": [
       "25"
      ]
     },
     "execution_count": 8,
     "metadata": {},
     "output_type": "execute_result"
    }
   ],
   "source": [
    "len(beta_val)"
   ]
  },
  {
   "cell_type": "code",
   "execution_count": null,
   "metadata": {
    "collapsed": true
   },
   "outputs": [],
   "source": []
  }
 ],
 "metadata": {
  "kernelspec": {
   "display_name": "Python 3",
   "language": "python",
   "name": "python3"
  },
  "language_info": {
   "codemirror_mode": {
    "name": "ipython",
    "version": 3
   },
   "file_extension": ".py",
   "mimetype": "text/x-python",
   "name": "python",
   "nbconvert_exporter": "python",
   "pygments_lexer": "ipython3",
   "version": "3.6.1"
  }
 },
 "nbformat": 4,
 "nbformat_minor": 2
}
