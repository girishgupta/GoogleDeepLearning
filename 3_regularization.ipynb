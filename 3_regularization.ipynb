{
 "cells": [
  {
   "cell_type": "markdown",
   "metadata": {
    "colab_type": "text",
    "id": "kR-4eNdK6lYS"
   },
   "source": [
    "Deep Learning\n",
    "=============\n",
    "\n",
    "Assignment 3\n",
    "------------\n",
    "\n",
    "Previously in `2_fullyconnected.ipynb`, you trained a logistic regression and a neural network model.\n",
    "\n",
    "The goal of this assignment is to explore regularization techniques."
   ]
  },
  {
   "cell_type": "code",
   "execution_count": 104,
   "metadata": {
    "cellView": "both",
    "colab": {
     "autoexec": {
      "startup": false,
      "wait_interval": 0
     }
    },
    "colab_type": "code",
    "collapsed": true,
    "id": "JLpLa8Jt7Vu4"
   },
   "outputs": [],
   "source": [
    "# These are all the modules we'll be using later. Make sure you can import them\n",
    "# before proceeding further.\n",
    "from __future__ import print_function\n",
    "import numpy as np\n",
    "import tensorflow as tf\n",
    "from six.moves import cPickle as pickle"
   ]
  },
  {
   "cell_type": "code",
   "execution_count": 46,
   "metadata": {
    "collapsed": true
   },
   "outputs": [],
   "source": [
    "#Plotting required for tunning of beta values\n",
    "import matplotlib.pyplot as plt\n",
    "%matplotlib inline"
   ]
  },
  {
   "cell_type": "markdown",
   "metadata": {
    "colab_type": "text",
    "id": "1HrCK6e17WzV"
   },
   "source": [
    "First reload the data we generated in _notmist.ipynb_."
   ]
  },
  {
   "cell_type": "code",
   "execution_count": 18,
   "metadata": {
    "cellView": "both",
    "colab": {
     "autoexec": {
      "startup": false,
      "wait_interval": 0
     },
     "output_extras": [
      {
       "item_id": 1
      }
     ]
    },
    "colab_type": "code",
    "executionInfo": {
     "elapsed": 11777,
     "status": "ok",
     "timestamp": 1449849322348,
     "user": {
      "color": "",
      "displayName": "",
      "isAnonymous": false,
      "isMe": true,
      "permissionId": "",
      "photoUrl": "",
      "sessionId": "0",
      "userId": ""
     },
     "user_tz": 480
    },
    "id": "y3-cj1bpmuxc",
    "outputId": "e03576f1-ebbe-4838-c388-f1777bcc9873"
   },
   "outputs": [
    {
     "name": "stdout",
     "output_type": "stream",
     "text": [
      "Training set (200000, 28, 28) (200000,)\n",
      "Validation set (10000, 28, 28) (10000,)\n",
      "Test set (10000, 28, 28) (10000,)\n"
     ]
    }
   ],
   "source": [
    "pickle_file = 'notMNIST.pickle'\n",
    "\n",
    "with open(pickle_file, 'rb') as f:\n",
    "    save = pickle.load(f)\n",
    "    train_dataset = save['train_dataset']\n",
    "    train_labels = save['train_labels']\n",
    "    valid_dataset = save['valid_dataset']\n",
    "    valid_labels = save['valid_labels']\n",
    "    test_dataset = save['test_dataset']\n",
    "    test_labels = save['test_labels']\n",
    "    del save  # hint to help gc free up memory\n",
    "    print('Training set', train_dataset.shape, train_labels.shape)\n",
    "    print('Validation set', valid_dataset.shape, valid_labels.shape)\n",
    "    print('Test set', test_dataset.shape, test_labels.shape)"
   ]
  },
  {
   "cell_type": "markdown",
   "metadata": {
    "colab_type": "text",
    "id": "L7aHrm6nGDMB"
   },
   "source": [
    "Reformat into a shape that's more adapted to the models we're going to train:\n",
    "- data as a flat matrix,\n",
    "- labels as float 1-hot encodings."
   ]
  },
  {
   "cell_type": "code",
   "execution_count": 19,
   "metadata": {
    "cellView": "both",
    "colab": {
     "autoexec": {
      "startup": false,
      "wait_interval": 0
     },
     "output_extras": [
      {
       "item_id": 1
      }
     ]
    },
    "colab_type": "code",
    "executionInfo": {
     "elapsed": 11728,
     "status": "ok",
     "timestamp": 1449849322356,
     "user": {
      "color": "",
      "displayName": "",
      "isAnonymous": false,
      "isMe": true,
      "permissionId": "",
      "photoUrl": "",
      "sessionId": "0",
      "userId": ""
     },
     "user_tz": 480
    },
    "id": "IRSyYiIIGIzS",
    "outputId": "3f8996ee-3574-4f44-c953-5c8a04636582"
   },
   "outputs": [
    {
     "name": "stdout",
     "output_type": "stream",
     "text": [
      "Training set (200000, 784) (200000, 10)\n",
      "Validation set (10000, 784) (10000, 10)\n",
      "Test set (10000, 784) (10000, 10)\n"
     ]
    }
   ],
   "source": [
    "image_size = 28\n",
    "num_labels = 10\n",
    "\n",
    "def reformat(dataset, labels):\n",
    "    dataset = dataset.reshape((-1, image_size * image_size)).astype(np.float32)\n",
    "    # Map 2 to [0.0, 1.0, 0.0 ...], 3 to [0.0, 0.0, 1.0 ...]\n",
    "    labels = (np.arange(num_labels) == labels[:,None]).astype(np.float32)\n",
    "    return dataset, labels\n",
    "train_dataset, train_labels = reformat(train_dataset, train_labels)\n",
    "valid_dataset, valid_labels = reformat(valid_dataset, valid_labels)\n",
    "test_dataset, test_labels = reformat(test_dataset, test_labels)\n",
    "print('Training set', train_dataset.shape, train_labels.shape)\n",
    "print('Validation set', valid_dataset.shape, valid_labels.shape)\n",
    "print('Test set', test_dataset.shape, test_labels.shape)"
   ]
  },
  {
   "cell_type": "code",
   "execution_count": 20,
   "metadata": {
    "cellView": "both",
    "colab": {
     "autoexec": {
      "startup": false,
      "wait_interval": 0
     }
    },
    "colab_type": "code",
    "collapsed": true,
    "id": "RajPLaL_ZW6w"
   },
   "outputs": [],
   "source": [
    "def accuracy(predictions, labels):\n",
    "    return (100.0 * np.sum(np.argmax(predictions, 1) == np.argmax(labels, 1))/ predictions.shape[0])"
   ]
  },
  {
   "cell_type": "markdown",
   "metadata": {
    "colab_type": "text",
    "id": "sgLbUAQ1CW-1"
   },
   "source": [
    "---\n",
    "Problem 1\n",
    "---------\n",
    "\n",
    "Introduce and tune L2 regularization for both logistic and neural network models. Remember that L2 amounts to adding a penalty on the norm of the weights to the loss. In TensorFlow, you can compue the L2 loss for a tensor `t` using `nn.l2_loss(t)`. The right amount of regularization should improve your validation / test accuracy.\n",
    "\n",
    "---"
   ]
  },
  {
   "cell_type": "code",
   "execution_count": 44,
   "metadata": {
    "collapsed": true
   },
   "outputs": [],
   "source": [
    "batch_size = 128\n",
    "image_size = 28\n",
    "\n",
    "\n",
    "graph = tf.Graph()\n",
    "with graph.as_default():\n",
    "    #global_step = tf.Variable(0,trainable = False)\n",
    "    #stater_learning_rate = 0.1\n",
    "    #learning_rate = tf.train.exponential_decay(starter_learning_rate, global_step,100000, 0.96, staircase=True)\n",
    "    \n",
    "    tf_train_dataset = tf.placeholder(tf.float32, shape=(batch_size, image_size*image_size))\n",
    "    tf_train_labels = tf.placeholder(tf.float32,shape=(batch_size, num_labels))\n",
    "    tf_test_dataset = tf.constant(test_dataset)\n",
    "    tf_valid_dataset = tf.constant(valid_dataset)\n",
    "    \n",
    "    weights = tf.Variable(tf.truncated_normal([image_size*image_size, num_labels]))\n",
    "    biases = tf.Variable(tf.zeros([num_labels]))\n",
    "    beta_regu = tf.placeholder(tf.float32)\n",
    "    \n",
    "    logits = tf.matmul(tf_train_dataset,weights)+ biases\n",
    "    loss = tf.reduce_mean(tf.nn.softmax_cross_entropy_with_logits(logits = logits, labels = tf_train_labels)) + beta_regu * tf.nn.l2_loss(weights)\n",
    "        \n",
    "    optimizer = tf.train.GradientDescentOptimizer(0.25).minimize(loss)\n",
    "    #learning_step = (tf.GradientDescentOptimizer(learning_rate).minimize(loss, global_step=global_step))\n",
    "    \n",
    "    train_prediction = tf.nn.softmax(logits)\n",
    "    \n",
    "    test_prediction = tf.nn.softmax(tf.matmul(tf_test_dataset, weights)+biases)\n",
    "    valid_prediction = tf.nn.softmax(tf.matmul(tf_valid_dataset, weights)+biases)\n"
   ]
  },
  {
   "cell_type": "code",
   "execution_count": 45,
   "metadata": {},
   "outputs": [
    {
     "name": "stdout",
     "output_type": "stream",
     "text": [
      "Initialized\n",
      "Minibatch loss at step 0: 20.868767\n",
      "Minibatch accuracy: 6.2%\n",
      "Validation accuracy: 9.7%\n",
      "Minibatch loss at step 500: 4.261997\n",
      "Minibatch accuracy: 73.4%\n",
      "Validation accuracy: 73.9%\n",
      "Minibatch loss at step 1000: 2.843054\n",
      "Minibatch accuracy: 77.3%\n",
      "Validation accuracy: 76.1%\n",
      "Minibatch loss at step 1500: 1.889867\n",
      "Minibatch accuracy: 81.2%\n",
      "Validation accuracy: 77.2%\n",
      "Minibatch loss at step 2000: 1.525040\n",
      "Minibatch accuracy: 85.2%\n",
      "Validation accuracy: 78.6%\n",
      "Minibatch loss at step 2500: 1.323797\n",
      "Minibatch accuracy: 81.2%\n",
      "Validation accuracy: 79.8%\n",
      "Minibatch loss at step 3000: 1.163011\n",
      "Minibatch accuracy: 80.5%\n",
      "Validation accuracy: 80.6%\n",
      "Minibatch loss at step 3500: 0.943403\n",
      "Minibatch accuracy: 81.2%\n",
      "Validation accuracy: 80.9%\n",
      "Minibatch loss at step 4000: 0.975975\n",
      "Minibatch accuracy: 75.8%\n",
      "Validation accuracy: 81.5%\n",
      "Minibatch loss at step 4500: 0.824742\n",
      "Minibatch accuracy: 84.4%\n",
      "Validation accuracy: 82.0%\n",
      "Minibatch loss at step 5000: 0.545898\n",
      "Minibatch accuracy: 88.3%\n",
      "Validation accuracy: 82.2%\n",
      "Minibatch loss at step 5500: 0.874880\n",
      "Minibatch accuracy: 79.7%\n",
      "Validation accuracy: 82.6%\n",
      "Minibatch loss at step 6000: 0.646294\n",
      "Minibatch accuracy: 83.6%\n",
      "Validation accuracy: 82.3%\n",
      "Minibatch loss at step 6500: 0.637942\n",
      "Minibatch accuracy: 85.9%\n",
      "Validation accuracy: 82.5%\n",
      "Minibatch loss at step 7000: 0.935173\n",
      "Minibatch accuracy: 74.2%\n",
      "Validation accuracy: 82.6%\n",
      "Minibatch loss at step 7500: 0.657194\n",
      "Minibatch accuracy: 83.6%\n",
      "Validation accuracy: 82.5%\n",
      "Minibatch loss at step 8000: 0.747048\n",
      "Minibatch accuracy: 82.8%\n",
      "Validation accuracy: 82.8%\n",
      "Minibatch loss at step 8500: 0.794679\n",
      "Minibatch accuracy: 83.6%\n",
      "Validation accuracy: 82.5%\n",
      "Minibatch loss at step 9000: 0.736822\n",
      "Minibatch accuracy: 83.6%\n",
      "Validation accuracy: 82.6%\n",
      "Minibatch loss at step 9500: 0.516093\n",
      "Minibatch accuracy: 85.2%\n",
      "Validation accuracy: 82.6%\n",
      "Minibatch loss at step 10000: 0.767841\n",
      "Minibatch accuracy: 80.5%\n",
      "Validation accuracy: 82.8%\n",
      "Test accuracy: 89.6%\n"
     ]
    }
   ],
   "source": [
    "num_steps = 10001\n",
    "\n",
    "with tf.Session(graph = graph) as session:\n",
    "    tf.global_variables_initializer().run()\n",
    "    print('Initialized')\n",
    "    for step in range(num_steps):\n",
    "        offset = (batch_size * step) % (train_labels.shape[0]-batch_size)\n",
    "        batch_data = train_dataset[offset:(offset+batch_size),:]\n",
    "        batch_labels = train_labels[offset:(offset+batch_size),:]\n",
    "        feed_dict = {tf_train_dataset : batch_data, tf_train_labels : batch_labels, beta_regu : 1e-3}\n",
    "        #feed_dict = {tf_train_dataset : batch_data, tf_train_labels : batch_labels, beta_regul : 1e-3}\n",
    "        _,l,predictions = session.run([optimizer,loss,train_prediction], feed_dict = feed_dict)\n",
    "        if (step % 500 == 0):\n",
    "            print(\"Minibatch loss at step %d: %f\" % (step, l))\n",
    "            print(\"Minibatch accuracy: %.1f%%\" % accuracy(predictions, batch_labels))\n",
    "            print(\"Validation accuracy: %.1f%%\" % accuracy(valid_prediction.eval(), valid_labels))\n",
    "    print(\"Test accuracy: %.1f%%\" % accuracy(test_prediction.eval(),test_labels)) "
   ]
  },
  {
   "cell_type": "code",
   "execution_count": 54,
   "metadata": {},
   "outputs": [
    {
     "name": "stdout",
     "output_type": "stream",
     "text": [
      "Initialized\n",
      "Finished for: 0.0%\n",
      "Finished for: 0.0%\n",
      "Finished for: 0.0%\n",
      "Finished for: 0.0%\n",
      "Finished for: 0.0%\n",
      "Finished for: 0.0%\n",
      "Finished for: 0.0%\n",
      "Finished for: 0.0%\n",
      "Finished for: 0.0%\n",
      "Finished for: 0.0%\n",
      "Finished for: 0.0%\n",
      "Finished for: 0.0%\n",
      "Finished for: 0.0%\n",
      "Finished for: 0.0%\n",
      "Finished for: 0.0%\n",
      "Finished for: 0.0%\n",
      "Finished for: 0.0%\n",
      "Finished for: 0.0%\n",
      "Finished for: 0.0%\n",
      "Finished for: 0.1%\n",
      "Finished for: 0.1%\n",
      "Finished for: 0.2%\n",
      "Finished for: 0.3%\n",
      "Finished for: 0.4%\n",
      "Finished for: 0.6%\n"
     ]
    }
   ],
   "source": [
    "num_steps = 3001\n",
    "beta_val = [pow(10,i) for i in np.arange(-5,0,0.2)]\n",
    "test_accuracy = []\n",
    "with tf.Session(graph = graph) as session:\n",
    "    tf.global_variables_initializer().run()\n",
    "    print('Initialized')\n",
    "    for beta_regu_val in beta_val:\n",
    "        for step in range(num_steps):\n",
    "            offset = (batch_size * step) % (train_labels.shape[0]-batch_size)\n",
    "            batch_data = train_dataset[offset:(offset+batch_size),:]\n",
    "            batch_labels = train_labels[offset:(offset+batch_size),:]\n",
    "            feed_dict = {tf_train_dataset : batch_data, tf_train_labels : batch_labels, beta_regu : beta_regu_val}\n",
    "            #feed_dict = {tf_train_dataset : batch_data, tf_train_labels : batch_labels, beta_regul : 1e-3}\n",
    "            _,l,predictions = session.run([optimizer,loss,train_prediction], feed_dict = feed_dict)\n",
    "        test_accuracy.append(accuracy(test_prediction.eval(),test_labels))\n",
    "        print(\"Finished for: %f%\" % beta_regu_val)\n",
    "            "
   ]
  },
  {
   "cell_type": "code",
   "execution_count": 61,
   "metadata": {},
   "outputs": [
    {
     "data": {
      "image/png": "[encoded data removed]",
      "text/plain": [
       "<matplotlib.figure.Figure at 0x2b2001709e8>"
      ]
     },
     "metadata": {},
     "output_type": "display_data"
    },
    {
     "name": "stdout",
     "output_type": "stream",
     "text": [
      "Max accuracy: 89.9% at 0.001000\n"
     ]
    }
   ],
   "source": [
    "#print(test_accuracy)\n",
    "#print(beta_val)\n",
    "plt.semilogx(beta_val,test_accuracy)\n",
    "plt.grid(True)\n",
    "plt.title(\"Regularization beta vs. test accuracy\")\n",
    "plt.xlabel(\"Beta\")\n",
    "plt.ylabel(\"Test Accruracy\")\n",
    "plt.show()\n",
    "print(\"Max accuracy: %.1f%% at %f\" % (max(test_accuracy),max(beta_val*(test_accuracy == max(test_accuracy)))))"
   ]
  },
  {
   "cell_type": "code",
   "execution_count": 74,
   "metadata": {
    "collapsed": true
   },
   "outputs": [],
   "source": [
    "batch_size = 128\n",
    "image_size = 28\n",
    "hidden_nodes = 1024\n",
    "\n",
    "graph = tf.Graph()\n",
    "\n",
    "with graph.as_default():\n",
    "    tf_train_dataset = tf.placeholder(tf.float32,shape=(batch_size,image_size*image_size))\n",
    "    tf_train_labels = tf.placeholder(tf.float32, shape=(batch_size,num_labels))\n",
    "    tf_valid_dataset = tf.constant(valid_dataset)\n",
    "    tf_test_dataset = tf.constant(test_dataset)\n",
    "    beta_regu = tf.placeholder(tf.float32)\n",
    "    \n",
    "    #Define Variables\n",
    "    weights1 = tf.Variable(tf.truncated_normal([image_size * image_size, hidden_nodes]))\n",
    "    biases1 = tf.Variable(tf.zeros([hidden_nodes]))\n",
    "    \n",
    "    #Define weights for hidden layer\n",
    "    weights2 = tf.Variable(tf.truncated_normal([hidden_nodes,num_labels]))\n",
    "    biases2 = tf.Variable(tf.zeros([num_labels]))\n",
    "    \n",
    "    #feed forward \n",
    "    logits = tf.nn.relu(tf.matmul(tf_train_dataset,weights1) + biases1)\n",
    "    logits = tf.matmul(logits,weights2)+biases2\n",
    "    loss = tf.reduce_mean(tf.nn.softmax_cross_entropy_with_logits(logits = logits, labels = tf_train_labels)) + beta_regu *(tf.nn.l2_loss(weights1) + tf.nn.l2_loss(weights2))\n",
    "    optimizer = tf.train.GradientDescentOptimizer(0.5).minimize(loss)\n",
    "    \n",
    "    train_prediction = tf.nn.softmax(logits)\n",
    "    \n",
    "    test_logit = tf.nn.relu(tf.matmul(tf_test_dataset,weights1)+biases1)\n",
    "    test_logit = tf.matmul(test_logit,weights2)+biases2\n",
    "    test_prediction = tf.nn.softmax(test_logit)\n",
    "    \n",
    "    valid_logit = tf.nn.relu(tf.matmul(tf_valid_dataset,weights1)+biases1)\n",
    "    valid_logit = tf.matmul(valid_logit,weights2)+biases2\n",
    "    valid_prediction = tf.nn.softmax(valid_logit)\n",
    "    \n",
    "    \n",
    "    \n",
    "    \n",
    "        "
   ]
  },
  {
   "cell_type": "code",
   "execution_count": 79,
   "metadata": {},
   "outputs": [
    {
     "name": "stdout",
     "output_type": "stream",
     "text": [
      "Initialized\n",
      "Minibatch loss at step 0: 565.735229\n",
      "Minibatch accuracy: 13.3%\n",
      "Validation accuracy: 32.6%\n",
      "Minibatch loss at step 500: 155.245895\n",
      "Minibatch accuracy: 79.7%\n",
      "Validation accuracy: 78.1%\n",
      "Minibatch loss at step 1000: 106.734650\n",
      "Minibatch accuracy: 82.0%\n",
      "Validation accuracy: 81.2%\n",
      "Minibatch loss at step 1500: 76.031868\n",
      "Minibatch accuracy: 86.7%\n",
      "Validation accuracy: 82.2%\n",
      "Minibatch loss at step 2000: 54.366955\n",
      "Minibatch accuracy: 89.1%\n",
      "Validation accuracy: 83.7%\n",
      "Minibatch loss at step 2500: 40.541988\n",
      "Minibatch accuracy: 86.7%\n",
      "Validation accuracy: 83.5%\n",
      "Minibatch loss at step 3000: 29.246292\n",
      "Minibatch accuracy: 85.2%\n",
      "Validation accuracy: 84.3%\n",
      "Minibatch loss at step 3500: 21.175112\n",
      "Minibatch accuracy: 87.5%\n",
      "Validation accuracy: 86.2%\n",
      "Minibatch loss at step 4000: 15.744858\n",
      "Minibatch accuracy: 82.0%\n",
      "Validation accuracy: 86.7%\n",
      "Minibatch loss at step 4500: 11.650021\n",
      "Minibatch accuracy: 87.5%\n",
      "Validation accuracy: 87.2%\n",
      "Minibatch loss at step 5000: 8.383613\n",
      "Minibatch accuracy: 92.2%\n",
      "Validation accuracy: 87.5%\n",
      "Minibatch loss at step 5500: 6.380248\n",
      "Minibatch accuracy: 86.7%\n",
      "Validation accuracy: 87.7%\n",
      "Minibatch loss at step 6000: 4.754567\n",
      "Minibatch accuracy: 86.7%\n",
      "Validation accuracy: 88.1%\n",
      "Minibatch loss at step 6500: 3.482373\n",
      "Minibatch accuracy: 92.2%\n",
      "Validation accuracy: 88.0%\n",
      "Minibatch loss at step 7000: 2.759692\n",
      "Minibatch accuracy: 90.6%\n",
      "Validation accuracy: 88.2%\n",
      "Minibatch loss at step 7500: 2.050972\n",
      "Minibatch accuracy: 90.6%\n",
      "Validation accuracy: 88.4%\n",
      "Minibatch loss at step 8000: 1.724081\n",
      "Minibatch accuracy: 88.3%\n",
      "Validation accuracy: 88.5%\n",
      "Minibatch loss at step 8500: 1.426602\n",
      "Minibatch accuracy: 88.3%\n",
      "Validation accuracy: 88.7%\n",
      "Minibatch loss at step 9000: 1.151484\n",
      "Minibatch accuracy: 89.1%\n",
      "Validation accuracy: 88.8%\n",
      "Minibatch loss at step 9500: 0.909193\n",
      "Minibatch accuracy: 91.4%\n",
      "Validation accuracy: 89.0%\n",
      "Minibatch loss at step 10000: 0.809626\n",
      "Minibatch accuracy: 92.2%\n",
      "Validation accuracy: 88.9%\n",
      "Test accuracy: 94.7%\n"
     ]
    }
   ],
   "source": [
    "num_steps = 12001\n",
    "\n",
    "with tf.Session(graph = graph) as session:\n",
    "    tf.global_variables_initializer().run()\n",
    "    print('Initialized')\n",
    "    for step in range(num_steps):\n",
    "        offset = (batch_size * step) % (train_labels.shape[0]-batch_size)\n",
    "        batch_data = train_dataset[offset:(offset+batch_size),:]\n",
    "        batch_labels = train_labels[offset:(offset+batch_size),:]\n",
    "        feed_dict = {tf_train_dataset : batch_data, tf_train_labels : batch_labels, beta_regu : 0.000631}\n",
    "        #feed_dict = {tf_train_dataset : batch_data, tf_train_labels : batch_labels, beta_regul : .000631}\n",
    "        _,l,predictions = session.run([optimizer,loss,train_prediction], feed_dict = feed_dict)\n",
    "        if (step % 500 == 0):\n",
    "            print(\"Minibatch loss at step %d: %f\" % (step, l))\n",
    "            print(\"Minibatch accuracy: %.1f%%\" % accuracy(predictions, batch_labels))\n",
    "            print(\"Validation accuracy: %.1f%%\" % accuracy(valid_prediction.eval(), valid_labels))\n",
    "            print(\"Test accuracy: %.1f%%\" % accuracy(test_prediction.eval(),test_labels)) "
   ]
  },
  {
   "cell_type": "code",
   "execution_count": 77,
   "metadata": {},
   "outputs": [
    {
     "name": "stdout",
     "output_type": "stream",
     "text": [
      "Initialized\n",
      "Finished for: 0.000010\n",
      "Finished for: 0.000016\n",
      "Finished for: 0.000025\n",
      "Finished for: 0.000040\n",
      "Finished for: 0.000063\n",
      "Finished for: 0.000100\n",
      "Finished for: 0.000158\n",
      "Finished for: 0.000251\n",
      "Finished for: 0.000398\n",
      "Finished for: 0.000631\n",
      "Finished for: 0.001000\n",
      "Finished for: 0.001585\n",
      "Finished for: 0.002512\n",
      "Finished for: 0.003981\n",
      "Finished for: 0.006310\n",
      "Finished for: 0.010000\n",
      "Finished for: 0.015849\n",
      "Finished for: 0.025119\n",
      "Finished for: 0.039811\n",
      "Finished for: 0.063096\n",
      "Finished for: 0.100000\n",
      "Finished for: 0.158489\n",
      "Finished for: 0.251189\n",
      "Finished for: 0.398107\n",
      "Finished for: 0.630957\n"
     ]
    }
   ],
   "source": [
    "num_steps = 3001\n",
    "beta_val = [pow(10,i) for i in np.arange(-5,0,0.2)]\n",
    "test_accuracy = []\n",
    "with tf.Session(graph = graph) as session:\n",
    "    tf.global_variables_initializer().run()\n",
    "    print('Initialized')\n",
    "    for beta_regu_val in beta_val:\n",
    "        for step in range(num_steps):\n",
    "            offset = (batch_size * step) % (train_labels.shape[0]-batch_size)\n",
    "            batch_dat#print(test_accuracy)\n",
    "#print(beta_val)\n",
    "plt.semilogx(beta_val,test_accuracy)\n",
    "plt.grid(True)\n",
    "plt.title(\"Regularization beta vs. test accuracy\")\n",
    "plt.xlabel(\"Beta\")\n",
    "plt.ylabel(\"Test Accruracy\")\n",
    "plt.show()\n",
    "print(\"Max accuracy: %.1f%% at %f\" % (max(test_accuracy),max(beta_val*(test_accuracy == max(test_accuracy)))))a = train_dataset[offset:(offset+batch_size),:]\n",
    "            batch_labels = train_labels[offset:(offset+batch_size),:]\n",
    "            feed_dict = {tf_train_dataset : batch_data, tf_train_labels : batch_labels, beta_regu : beta_regu_val}\n",
    "            #feed_dict = {tf_train_dataset : batch_data, tf_train_labels : batch_labels, beta_regul : 1e-3}\n",
    "            _,l,predictions = session.run([optimizer,loss,train_prediction], feed_dict = feed_dict)\n",
    "        test_accuracy.append(accuracy(test_prediction.eval(),test_labels))\n",
    "        print(\"Finished for: %f\" % beta_regu_val)"
   ]
  },
  {
   "cell_type": "code",
   "execution_count": 78,
   "metadata": {},
   "outputs": [
    {
     "data": {
      "image/png": "[encoded data removed]",
      "text/plain": [
       "<matplotlib.figure.Figure at 0x2b2105974e0>"
      ]
     },
     "metadata": {},
     "output_type": "display_data"
    },
    {
     "name": "stdout",
     "output_type": "stream",
     "text": [
      "Max accuracy: 94.6% at 0.000631\n"
     ]
    }
   ],
   "source": [
    "#print(test_accuracy)\n",
    "#print(beta_val)\n",
    "plt.semilogx(beta_val,test_accuracy)\n",
    "plt.grid(True)\n",
    "plt.title(\"Regularization beta vs. test accuracy\")\n",
    "plt.xlabel(\"Beta\")\n",
    "plt.ylabel(\"Test Accruracy\")\n",
    "plt.show()\n",
    "print(\"Max accuracy: %.1f%% at %f\" % (max(test_accuracy),max(beta_val*(test_accuracy == max(test_accuracy)))))"
   ]
  },
  {
   "cell_type": "markdown",
   "metadata": {
    "colab_type": "text",
    "id": "na8xX2yHZzNF"
   },
   "source": [
    "---\n",
    "Problem 2\n",
    "---------\n",
    "Let's demonstrate an extreme case of overfitting. Restrict your training data to just a few batches. What happens?\n",
    "\n",
    "---"
   ]
  },
  {
   "cell_type": "markdown",
   "metadata": {
    "colab_type": "text",
    "id": "ww3SCBUdlkRc"
   },
   "source": [
    "---\n",
    "Problem 3\n",
    "---------\n",
    "Introduce Dropout on the hidden layer of the neural network. Remember: Dropout should only be introduced during training, not evaluation, otherwise your evaluation results would be stochastic as well. TensorFlow provides `nn.dropout()` for that, but you have to make sure it's only inserted during training.\n",
    "\n",
    "What happens to our extreme overfitting case?\n",
    "\n",
    "---"
   ]
  },
  {
   "cell_type": "code",
   "execution_count": 80,
   "metadata": {
    "collapsed": true
   },
   "outputs": [],
   "source": [
    "batch_size = 128\n",
    "image_size = 28\n",
    "hidden_nodes = 1024\n",
    "\n",
    "graph = tf.Graph()\n",
    "\n",
    "with graph.as_default():\n",
    "    tf_train_dataset = tf.placeholder(tf.float32,shape=(batch_size,image_size*image_size))\n",
    "    tf_train_labels = tf.placeholder(tf.float32, shape=(batch_size,num_labels))\n",
    "    tf_valid_dataset = tf.constant(valid_dataset)\n",
    "    tf_test_dataset = tf.constant(test_dataset)\n",
    "    beta_regu = tf.placeholder(tf.float32)\n",
    "    \n",
    "    #Define Variables\n",
    "    weights1 = tf.Variable(tf.truncated_normal([image_size * image_size, hidden_nodes]))\n",
    "    biases1 = tf.Variable(tf.zeros([hidden_nodes]))\n",
    "    \n",
    "    #Define weights for hidden layer\n",
    "    weights2 = tf.Variable(tf.truncated_normal([hidden_nodes,num_labels]))\n",
    "    biases2 = tf.Variable(tf.zeros([num_labels]))\n",
    "    \n",
    "    #feed forward \n",
    "    logits = tf.nn.relu(tf.matmul(tf_train_dataset,weights1) + biases1)\n",
    "    #Dropout takes tensor and keep_prob here keep_prob will be 0.5 we can tune this parameter\n",
    "    logits = tf.nn.dropout(logits,0.5)\n",
    "    logits = tf.matmul(logits,weights2)+biases2\n",
    "    loss = tf.reduce_mean(tf.nn.softmax_cross_entropy_with_logits(logits = logits, labels = tf_train_labels)) + beta_regu *(tf.nn.l2_loss(weights1) + tf.nn.l2_loss(weights2))\n",
    "    optimizer = tf.train.GradientDescentOptimizer(0.5).minimize(loss)\n",
    "    \n",
    "    train_prediction = tf.nn.softmax(logits)\n",
    "    \n",
    "    test_logit = tf.nn.relu(tf.matmul(tf_test_dataset,weights1)+biases1)\n",
    "    test_logit = tf.matmul(test_logit,weights2)+biases2\n",
    "    test_prediction = tf.nn.softmax(test_logit)\n",
    "    \n",
    "    valid_logit = tf.nn.relu(tf.matmul(tf_valid_dataset,weights1)+biases1)\n",
    "    valid_logit = tf.matmul(valid_logit,weights2)+biases2\n",
    "    valid_prediction = tf.nn.softmax(valid_logit)\n",
    "    \n",
    "    "
   ]
  },
  {
   "cell_type": "code",
   "execution_count": 82,
   "metadata": {},
   "outputs": [
    {
     "name": "stdout",
     "output_type": "stream",
     "text": [
      "Initialized\n",
      "Minibatch loss at step 0: 722.574707\n",
      "Minibatch accuracy: 12.5%\n",
      "Validation accuracy: 30.8%\n",
      "Test accuracy: 33.2%\n",
      "Minibatch loss at step 500: 165.949402\n",
      "Minibatch accuracy: 74.2%\n",
      "Validation accuracy: 78.9%\n",
      "Test accuracy: 86.9%\n",
      "Minibatch loss at step 1000: 107.553299\n",
      "Minibatch accuracy: 78.9%\n",
      "Validation accuracy: 80.7%\n",
      "Test accuracy: 87.6%\n",
      "Minibatch loss at step 1500: 76.310005\n",
      "Minibatch accuracy: 76.6%\n",
      "Validation accuracy: 81.1%\n",
      "Test accuracy: 88.2%\n",
      "Minibatch loss at step 2000: 54.399429\n",
      "Minibatch accuracy: 85.2%\n",
      "Validation accuracy: 82.1%\n",
      "Test accuracy: 89.3%\n",
      "Minibatch loss at step 2500: 40.778923\n",
      "Minibatch accuracy: 80.5%\n",
      "Validation accuracy: 82.6%\n",
      "Test accuracy: 90.2%\n",
      "Minibatch loss at step 3000: 29.322638\n",
      "Minibatch accuracy: 81.2%\n",
      "Validation accuracy: 83.1%\n",
      "Test accuracy: 90.4%\n",
      "Minibatch loss at step 3500: 21.149702\n",
      "Minibatch accuracy: 82.8%\n",
      "Validation accuracy: 84.4%\n",
      "Test accuracy: 91.5%\n",
      "Minibatch loss at step 4000: 15.847289\n",
      "Minibatch accuracy: 78.1%\n",
      "Validation accuracy: 85.1%\n",
      "Test accuracy: 91.9%\n",
      "Minibatch loss at step 4500: 11.635156\n",
      "Minibatch accuracy: 82.8%\n",
      "Validation accuracy: 85.2%\n",
      "Test accuracy: 92.2%\n",
      "Minibatch loss at step 5000: 8.444057\n",
      "Minibatch accuracy: 86.7%\n",
      "Validation accuracy: 85.8%\n",
      "Test accuracy: 92.7%\n",
      "Minibatch loss at step 5500: 6.384719\n",
      "Minibatch accuracy: 83.6%\n",
      "Validation accuracy: 85.7%\n",
      "Test accuracy: 92.6%\n",
      "Minibatch loss at step 6000: 4.812754\n",
      "Minibatch accuracy: 84.4%\n",
      "Validation accuracy: 86.4%\n",
      "Test accuracy: 93.1%\n",
      "Minibatch loss at step 6500: 3.491092\n",
      "Minibatch accuracy: 93.0%\n",
      "Validation accuracy: 86.6%\n",
      "Test accuracy: 93.2%\n",
      "Minibatch loss at step 7000: 2.913846\n",
      "Minibatch accuracy: 82.8%\n",
      "Validation accuracy: 86.6%\n",
      "Test accuracy: 93.5%\n",
      "Minibatch loss at step 7500: 2.194495\n",
      "Minibatch accuracy: 85.9%\n",
      "Validation accuracy: 87.0%\n",
      "Test accuracy: 93.4%\n",
      "Minibatch loss at step 8000: 1.776347\n",
      "Minibatch accuracy: 87.5%\n",
      "Validation accuracy: 87.1%\n",
      "Test accuracy: 93.4%\n",
      "Minibatch loss at step 8500: 1.496116\n",
      "Minibatch accuracy: 84.4%\n",
      "Validation accuracy: 87.0%\n",
      "Test accuracy: 93.5%\n",
      "Minibatch loss at step 9000: 1.291962\n",
      "Minibatch accuracy: 85.2%\n",
      "Validation accuracy: 87.4%\n",
      "Test accuracy: 93.7%\n",
      "Minibatch loss at step 9500: 1.002351\n",
      "Minibatch accuracy: 86.7%\n",
      "Validation accuracy: 87.3%\n",
      "Test accuracy: 93.6%\n",
      "Minibatch loss at step 10000: 0.865932\n",
      "Minibatch accuracy: 88.3%\n",
      "Validation accuracy: 87.2%\n",
      "Test accuracy: 93.8%\n"
     ]
    }
   ],
   "source": [
    "num_steps = 10001\n",
    "\n",
    "with tf.Session(graph = graph) as session:\n",
    "    tf.global_variables_initializer().run()\n",
    "    print('Initialized')\n",
    "    for step in range(num_steps):\n",
    "        offset = (batch_size * step) % (train_labels.shape[0]-batch_size)\n",
    "        batch_data = train_dataset[offset:(offset+batch_size),:]\n",
    "        batch_labels = train_labels[offset:(offset+batch_size),:]\n",
    "        feed_dict = {tf_train_dataset : batch_data, tf_train_labels : batch_labels, beta_regu : .000631}\n",
    "        #feed_dict = {tf_train_dataset : batch_data, tf_train_labels : batch_labels, beta_regul : 1e-3}\n",
    "        _,l,predictions = session.run([optimizer,loss,train_prediction], feed_dict = feed_dict)\n",
    "        if (step % 500 == 0):\n",
    "            print(\"Minibatch loss at step %d: %f\" % (step, l))\n",
    "            print(\"Minibatch accuracy: %.1f%%\" % accuracy(predictions, batch_labels))\n",
    "            print(\"Validation accuracy: %.1f%%\" % accuracy(valid_prediction.eval(), valid_labels))\n",
    "            print(\"Test accuracy: %.1f%%\" % accuracy(test_prediction.eval(),test_labels)) "
   ]
  },
  {
   "cell_type": "markdown",
   "metadata": {
    "colab_type": "text",
    "id": "-b1hTz3VWZjw"
   },
   "source": [
    "---\n",
    "Problem 4\n",
    "---------\n",
    "\n",
    "Try to get the best performance you can using a multi-layer model! The best reported test accuracy using a deep network is [97.1%](http://yaroslavvb.blogspot.com/2011/09/notmnist-dataset.html?showComment=1391023266211#c8758720086795711595).\n",
    "\n",
    "One avenue you can explore is to add multiple layers.\n",
    "\n",
    "Another one is to use learning rate decay:\n",
    "\n",
    "    global_step = tf.Variable(0)  # count the number of steps taken.\n",
    "    learning_rate = tf.train.exponential_decay(0.5, step, ...)\n",
    "    optimizer = tf.train.GradientDescentOptimizer(learning_rate).minimize(loss, global_step=global_step)\n",
    " \n",
    " ---\n"
   ]
  },
  {
   "cell_type": "markdown",
   "metadata": {},
   "source": [
    "Let's try 3 layer with dropout and regularization to test out and learning rate decay as well"
   ]
  },
  {
   "cell_type": "code",
   "execution_count": 109,
   "metadata": {
    "collapsed": true
   },
   "outputs": [],
   "source": [
    "batch_size = 128\n",
    "#image_size = 28\n",
    "hidden_nodes1 = 1024\n",
    "hidden_nodes2 = 512\n",
    "hidden_nodes3 = 256\n",
    "keep_prob = 0.5\n",
    "num_labels = 10\n",
    "\n",
    "graph = tf.Graph()\n",
    "\n",
    "with graph.as_default():\n",
    "    tf_train_dataset = tf.placeholder(tf.float32,shape=(batch_size,image_size*image_size))\n",
    "    tf_train_labels = tf.placeholder(tf.float32, shape=(batch_size,num_labels))\n",
    "    tf_valid_dataset = tf.constant(valid_dataset)\n",
    "    tf_test_dataset = tf.constant(test_dataset)\n",
    "    beta_regu = tf.placeholder(tf.float32)\n",
    "    global_step = tf.Variable(0)  # count the number of steps taken.\n",
    "    \n",
    "    #Define Variables\n",
    "    weights1 = tf.Variable(tf.truncated_normal([image_size * image_size, hidden_nodes1],stddev=np.sqrt(2.0 / (image_size * image_size))))\n",
    "    biases1 = tf.Variable(tf.zeros([hidden_nodes1]))\n",
    "    \n",
    "    #Define weights for hidden layer1\n",
    "    weights2 = tf.Variable(tf.truncated_normal([hidden_nodes1,hidden_nodes2],stddev=np.sqrt(2.0 / (hidden_nodes1))))\n",
    "    biases2 = tf.Variable(tf.zeros([hidden_nodes2]))\n",
    "    \n",
    "    #Define weights for hidden layer2\n",
    "    weights3 = tf.Variable(tf.truncated_normal([hidden_nodes2,hidden_nodes3],stddev=np.sqrt(2.0 / (hidden_nodes2))))\n",
    "    biases3 = tf.Variable(tf.zeros([hidden_nodes3]))\n",
    "    \n",
    "    #Define weights for hidden layer3\n",
    "    weights4 = tf.Variable(tf.truncated_normal([hidden_nodes3,num_labels],stddev=np.sqrt(2.0 / (hidden_nodes2))))\n",
    "    biases4 = tf.Variable(tf.zeros([num_labels]))\n",
    "    \n",
    "    #feed forward \n",
    "    logits = tf.nn.relu(tf.matmul(tf_train_dataset,weights1) + biases1)\n",
    "    #Dropout takes tensor and keep_prob here keep_prob will be 0.5 we can tune this parameter\n",
    "    logits = tf.nn.dropout(logits,keep_prob)\n",
    "    logits = tf.nn.relu(tf.matmul(logits,weights2)+biases2)\n",
    "    #logits = tf.nn.dropout(logits,keep_prob)\n",
    "    logits = tf.nn.relu(tf.matmul(logits,weights3)+biases3)\n",
    "    #logits = tf.nn.dropout(logits,keep_prob) \n",
    "    logits = tf.matmul(logits,weights4)+biases4\n",
    "    \n",
    "    \n",
    "    loss = tf.reduce_mean(tf.nn.softmax_cross_entropy_with_logits(logits = logits, labels = tf_train_labels))\n",
    "    #+ beta_regu *(tf.nn.l2_loss(weights1) + tf.nn.l2_loss(weights2)+tf.nn.l2_loss(weights3)+tf.nn.l2_loss(weights4))\n",
    "    \n",
    "    learning_rate = tf.train.exponential_decay(0.5, global_step, 4000, 0.65, staircase = True)\n",
    "    optimizer = tf.train.GradientDescentOptimizer(learning_rate).minimize(loss, global_step=global_step)\n",
    "    \n",
    "    #optimizer = tf.train.GradientDescentOptimizer(0.5).minimize(loss)\n",
    "    \n",
    "    train_prediction = tf.nn.softmax(logits)\n",
    "    \n",
    "    test_logits = tf.nn.relu(tf.matmul(tf_test_dataset,weights1) + biases1)\n",
    "    test_logits = tf.nn.relu(tf.matmul(test_logits,weights2)+biases2)\n",
    "    test_logits = tf.nn.relu(tf.matmul(test_logits,weights3)+biases3) \n",
    "    test_logits = tf.matmul(test_logits,weights4)+biases4\n",
    "    test_prediction = tf.nn.softmax(test_logits)\n",
    "    \n",
    "    valid_logits = tf.nn.relu(tf.matmul(tf_valid_dataset,weights1) + biases1)\n",
    "    valid_logits = tf.nn.relu(tf.matmul(valid_logits,weights2)+biases2)\n",
    "    valid_logits = tf.nn.relu(tf.matmul(valid_logits,weights3)+biases3) \n",
    "    valid_logits = tf.matmul(valid_logits,weights4)+biases4\n",
    "    valid_prediction = tf.nn.softmax(valid_logits)"
   ]
  },
  {
   "cell_type": "code",
   "execution_count": 110,
   "metadata": {},
   "outputs": [
    {
     "name": "stdout",
     "output_type": "stream",
     "text": [
      "Initialized\n",
      "Minibatch loss at step 0: 3.340060\n",
      "Minibatch accuracy: 12.5%\n",
      "Validation accuracy: 10.8%\n",
      "Test accuracy: 11.3%\n",
      "Minibatch loss at step 500: 1.397148\n",
      "Minibatch accuracy: 79.7%\n",
      "Validation accuracy: 84.0%\n",
      "Test accuracy: 90.9%\n",
      "Minibatch loss at step 1000: 1.129487\n",
      "Minibatch accuracy: 85.2%\n",
      "Validation accuracy: 84.7%\n",
      "Test accuracy: 91.5%\n",
      "Minibatch loss at step 1500: 0.919824\n",
      "Minibatch accuracy: 85.2%\n",
      "Validation accuracy: 85.6%\n",
      "Test accuracy: 92.3%\n",
      "Minibatch loss at step 2000: 0.737285\n",
      "Minibatch accuracy: 89.1%\n",
      "Validation accuracy: 85.9%\n",
      "Test accuracy: 92.1%\n",
      "Minibatch loss at step 2500: 0.702466\n",
      "Minibatch accuracy: 89.1%\n",
      "Validation accuracy: 86.3%\n",
      "Test accuracy: 92.8%\n",
      "Minibatch loss at step 3000: 0.805223\n",
      "Minibatch accuracy: 85.2%\n",
      "Validation accuracy: 86.5%\n",
      "Test accuracy: 93.0%\n",
      "Minibatch loss at step 3500: 0.569511\n",
      "Minibatch accuracy: 88.3%\n",
      "Validation accuracy: 87.2%\n",
      "Test accuracy: 93.5%\n",
      "Minibatch loss at step 4000: 0.810280\n",
      "Minibatch accuracy: 79.7%\n",
      "Validation accuracy: 86.8%\n",
      "Test accuracy: 93.2%\n",
      "Minibatch loss at step 4500: 0.699734\n",
      "Minibatch accuracy: 88.3%\n",
      "Validation accuracy: 88.0%\n",
      "Test accuracy: 94.3%\n",
      "Minibatch loss at step 5000: 0.417794\n",
      "Minibatch accuracy: 91.4%\n",
      "Validation accuracy: 88.2%\n",
      "Test accuracy: 94.2%\n",
      "Minibatch loss at step 5500: 0.652646\n",
      "Minibatch accuracy: 84.4%\n",
      "Validation accuracy: 87.8%\n",
      "Test accuracy: 94.2%\n",
      "Minibatch loss at step 6000: 0.563591\n",
      "Minibatch accuracy: 90.6%\n",
      "Validation accuracy: 88.0%\n",
      "Test accuracy: 94.0%\n",
      "Minibatch loss at step 6500: 0.564319\n",
      "Minibatch accuracy: 89.1%\n",
      "Validation accuracy: 88.3%\n",
      "Test accuracy: 94.6%\n",
      "Minibatch loss at step 7000: 0.580796\n",
      "Minibatch accuracy: 87.5%\n",
      "Validation accuracy: 88.0%\n",
      "Test accuracy: 94.2%\n",
      "Minibatch loss at step 7500: 0.468656\n",
      "Minibatch accuracy: 89.1%\n",
      "Validation accuracy: 88.3%\n",
      "Test accuracy: 94.3%\n",
      "Minibatch loss at step 8000: 0.587119\n",
      "Minibatch accuracy: 86.7%\n",
      "Validation accuracy: 88.3%\n",
      "Test accuracy: 94.5%\n",
      "Minibatch loss at step 8500: 0.624694\n",
      "Minibatch accuracy: 85.2%\n",
      "Validation accuracy: 89.1%\n",
      "Test accuracy: 94.8%\n",
      "Minibatch loss at step 9000: 0.579043\n",
      "Minibatch accuracy: 87.5%\n",
      "Validation accuracy: 88.9%\n",
      "Test accuracy: 94.9%\n",
      "Minibatch loss at step 9500: 0.458532\n",
      "Minibatch accuracy: 90.6%\n",
      "Validation accuracy: 88.6%\n",
      "Test accuracy: 94.4%\n",
      "Minibatch loss at step 10000: 0.538093\n",
      "Minibatch accuracy: 85.9%\n",
      "Validation accuracy: 89.0%\n",
      "Test accuracy: 95.1%\n",
      "Minibatch loss at step 10500: 0.566720\n",
      "Minibatch accuracy: 85.9%\n",
      "Validation accuracy: 89.0%\n",
      "Test accuracy: 94.9%\n",
      "Minibatch loss at step 11000: 0.563781\n",
      "Minibatch accuracy: 88.3%\n",
      "Validation accuracy: 89.2%\n",
      "Test accuracy: 95.0%\n",
      "Minibatch loss at step 11500: 0.345403\n",
      "Minibatch accuracy: 93.8%\n",
      "Validation accuracy: 88.8%\n",
      "Test accuracy: 94.8%\n",
      "Minibatch loss at step 12000: 0.449415\n",
      "Minibatch accuracy: 91.4%\n",
      "Validation accuracy: 89.1%\n",
      "Test accuracy: 94.8%\n",
      "Minibatch loss at step 12500: 0.624099\n",
      "Minibatch accuracy: 83.6%\n",
      "Validation accuracy: 89.8%\n",
      "Test accuracy: 95.1%\n",
      "Minibatch loss at step 13000: 0.434142\n",
      "Minibatch accuracy: 91.4%\n",
      "Validation accuracy: 89.8%\n",
      "Test accuracy: 95.3%\n",
      "Minibatch loss at step 13500: 0.411158\n",
      "Minibatch accuracy: 92.2%\n",
      "Validation accuracy: 89.7%\n",
      "Test accuracy: 95.3%\n",
      "Minibatch loss at step 14000: 0.318451\n",
      "Minibatch accuracy: 92.2%\n",
      "Validation accuracy: 89.6%\n",
      "Test accuracy: 95.4%\n",
      "Minibatch loss at step 14500: 0.372070\n",
      "Minibatch accuracy: 92.2%\n",
      "Validation accuracy: 89.6%\n",
      "Test accuracy: 95.5%\n",
      "Minibatch loss at step 15000: 0.448111\n",
      "Minibatch accuracy: 89.1%\n",
      "Validation accuracy: 90.0%\n",
      "Test accuracy: 95.5%\n",
      "Minibatch loss at step 15500: 0.424035\n",
      "Minibatch accuracy: 91.4%\n",
      "Validation accuracy: 89.7%\n",
      "Test accuracy: 95.1%\n",
      "Minibatch loss at step 16000: 0.487895\n",
      "Minibatch accuracy: 90.6%\n",
      "Validation accuracy: 89.7%\n",
      "Test accuracy: 95.3%\n",
      "Minibatch loss at step 16500: 0.418674\n",
      "Minibatch accuracy: 89.1%\n",
      "Validation accuracy: 90.1%\n",
      "Test accuracy: 95.7%\n",
      "Minibatch loss at step 17000: 0.378388\n",
      "Minibatch accuracy: 95.3%\n",
      "Validation accuracy: 90.1%\n",
      "Test accuracy: 95.7%\n",
      "Minibatch loss at step 17500: 0.376546\n",
      "Minibatch accuracy: 93.8%\n",
      "Validation accuracy: 90.0%\n",
      "Test accuracy: 95.8%\n",
      "Minibatch loss at step 18000: 0.458030\n",
      "Minibatch accuracy: 87.5%\n",
      "Validation accuracy: 90.2%\n",
      "Test accuracy: 95.7%\n",
      "Minibatch loss at step 18500: 0.516330\n",
      "Minibatch accuracy: 87.5%\n",
      "Validation accuracy: 90.2%\n",
      "Test accuracy: 95.7%\n",
      "Minibatch loss at step 19000: 0.323021\n",
      "Minibatch accuracy: 93.0%\n",
      "Validation accuracy: 90.0%\n",
      "Test accuracy: 95.6%\n",
      "Minibatch loss at step 19500: 0.254335\n",
      "Minibatch accuracy: 95.3%\n",
      "Validation accuracy: 90.1%\n",
      "Test accuracy: 95.6%\n",
      "Minibatch loss at step 20000: 0.349796\n",
      "Minibatch accuracy: 93.0%\n",
      "Validation accuracy: 90.3%\n",
      "Test accuracy: 95.7%\n"
     ]
    }
   ],
   "source": [
    "num_steps = 20001\n",
    "\n",
    "with tf.Session(graph = graph) as session:\n",
    "    tf.global_variables_initializer().run()\n",
    "    print('Initialized')\n",
    "    for step in range(num_steps):\n",
    "        offset = (batch_size * step) % (train_labels.shape[0]-batch_size)\n",
    "        batch_data = train_dataset[offset:(offset+batch_size),:]\n",
    "        batch_labels = train_labels[offset:(offset+batch_size),:]\n",
    "        feed_dict = {tf_train_dataset : batch_data, tf_train_labels : batch_labels, beta_regu : .000631}\n",
    "        #feed_dict = {tf_train_dataset : batch_data, tf_train_labels : batch_labels, beta_regul : 1e-3}\n",
    "        _,l,predictions = session.run([optimizer,loss,train_prediction], feed_dict = feed_dict)\n",
    "        if (step % 500 == 0):\n",
    "            print(\"Minibatch loss at step %d: %f\" % (step, l))\n",
    "            print(\"Minibatch accuracy: %.1f%%\" % accuracy(predictions, batch_labels))\n",
    "            print(\"Validation accuracy: %.1f%%\" % accuracy(valid_prediction.eval(), valid_labels))\n",
    "            print(\"Test accuracy: %.1f%%\" % accuracy(test_prediction.eval(),test_labels)) "
   ]
  },
  {
   "cell_type": "code",
   "execution_count": null,
   "metadata": {
    "collapsed": true
   },
   "outputs": [],
   "source": []
  }
 ],
 "metadata": {
  "colab": {
   "default_view": {},
   "name": "3_regularization.ipynb",
   "provenance": [],
   "version": "0.3.2",
   "views": {}
  },
  "kernelspec": {
   "display_name": "Python 3",
   "language": "python",
   "name": "python3"
  },
  "language_info": {
   "codemirror_mode": {
    "name": "ipython",
    "version": 3
   },
   "file_extension": ".py",
   "mimetype": "text/x-python",
   "name": "python",
   "nbconvert_exporter": "python",
   "pygments_lexer": "ipython3",
   "version": "3.6.1"
  }
 },
 "nbformat": 4,
 "nbformat_minor": 1
}
